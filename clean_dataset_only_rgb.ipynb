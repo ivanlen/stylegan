{
 "cells": [
  {
   "cell_type": "code",
   "execution_count": 1,
   "metadata": {},
   "outputs": [],
   "source": [
    "import os\n",
    "from PIL import Image\n",
    "import numpy as np"
   ]
  },
  {
   "cell_type": "code",
   "execution_count": 3,
   "metadata": {},
   "outputs": [],
   "source": [
    "image_dir = '/home/ivan/stylegan_tutorial/datasets/cropped_files_aug/'\n",
    "\n",
    "files = os.listdir(image_dir)\n",
    "\n",
    "for fname in files[:]:\n",
    "    im = Image.open(image_dir + '/' + fname)\n",
    "    imarr = np.asarray(im)\n",
    "    if imarr.ndim==2:\n",
    "        print(fname)\n",
    "        rgbimg = Image.new(\"RGB\", im.size)\n",
    "        rgbimg.paste(im)\n",
    "        rgbimg.save(image_dir + fname)"
   ]
  }
 ],
 "metadata": {
  "kernelspec": {
   "display_name": "Python 3",
   "language": "python",
   "name": "python3"
  },
  "language_info": {
   "codemirror_mode": {
    "name": "ipython",
    "version": 3
   },
   "file_extension": ".py",
   "mimetype": "text/x-python",
   "name": "python",
   "nbconvert_exporter": "python",
   "pygments_lexer": "ipython3",
   "version": "3.6.8"
  }
 },
 "nbformat": 4,
 "nbformat_minor": 2
}
